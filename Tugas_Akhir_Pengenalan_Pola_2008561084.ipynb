{
  "nbformat": 4,
  "nbformat_minor": 0,
  "metadata": {
    "colab": {
      "provenance": [],
      "authorship_tag": "ABX9TyPqErpQ9XeqJDLWeyH56O8H",
      "include_colab_link": true
    },
    "kernelspec": {
      "name": "python3",
      "display_name": "Python 3"
    },
    "language_info": {
      "name": "python"
    }
  },
  "cells": [
    {
      "cell_type": "markdown",
      "metadata": {
        "id": "view-in-github",
        "colab_type": "text"
      },
      "source": [
        "<a href=\"https://colab.research.google.com/github/Traa01/PENGENALAN-POLA/blob/main/Tugas_Akhir_Pengenalan_Pola_2008561084.ipynb\" target=\"_parent\"><img src=\"https://colab.research.google.com/assets/colab-badge.svg\" alt=\"Open In Colab\"/></a>"
      ]
    },
    {
      "cell_type": "markdown",
      "source": [],
      "metadata": {
        "id": "iJd1schtwKaB"
      }
    },
    {
      "cell_type": "markdown",
      "source": [
        "# Bagian Baru"
      ],
      "metadata": {
        "id": "Oi6YhmF6r1lA"
      }
    },
    {
      "cell_type": "markdown",
      "source": [
        "Membuat Library & Meload Data EEG\n",
        "\n",
        "\n",
        "\n"
      ],
      "metadata": {
        "id": "_VK0JZUhwLdZ"
      }
    },
    {
      "cell_type": "code",
      "source": [
        "import pandas as pd\n",
        "from sklearn.model_selection import train_test_split\n",
        "from sklearn.preprocessing import StandardScaler\n",
        "from tensorflow.keras import layers, models\n",
        "\n",
        "\n",
        "eeg_data = pd.read_csv('/content/EEG_dataset.csv')\n",
        "\n",
        "\n"
      ],
      "metadata": {
        "id": "1hW4jP-Ir6XX"
      },
      "execution_count": 2,
      "outputs": []
    },
    {
      "cell_type": "markdown",
      "source": [
        "Pisahkan fitur (x) dan label (y)"
      ],
      "metadata": {
        "id": "sLXRQyU5wfMk"
      }
    },
    {
      "cell_type": "code",
      "source": [
        "X = eeg_data.iloc[:, :-1].values\n",
        "y = eeg_data.iloc[:, -1].values"
      ],
      "metadata": {
        "id": "1ST6L-VgwxAm"
      },
      "execution_count": 3,
      "outputs": []
    },
    {
      "cell_type": "markdown",
      "source": [
        "Normalisasi Data menggunakan Standardscaler"
      ],
      "metadata": {
        "id": "jtgMGTdzw2QQ"
      }
    },
    {
      "cell_type": "code",
      "source": [
        "scaler = StandardScaler()\n",
        "X = scaler.fit_transform(X)"
      ],
      "metadata": {
        "id": "dmCzb6w0sSkP"
      },
      "execution_count": 4,
      "outputs": []
    },
    {
      "cell_type": "markdown",
      "source": [
        "Pisahkan Data Train dan Data Tes Sets"
      ],
      "metadata": {
        "id": "-uMsaq6HxCIx"
      }
    },
    {
      "cell_type": "code",
      "source": [
        "X_train, X_test, y_train, y_test = train_test_split(X, y, test_size=0.2, random_state=42)"
      ],
      "metadata": {
        "id": "dO9nQ7fuxLzv"
      },
      "execution_count": 5,
      "outputs": []
    },
    {
      "cell_type": "markdown",
      "source": [
        "Model MLP"
      ],
      "metadata": {
        "id": "qxD1ducbxWxR"
      }
    },
    {
      "cell_type": "code",
      "source": [
        "model = models.Sequential()\n",
        "model.add(layers.InputLayer(input_shape=(X_train.shape[1],)))\n",
        "model.add(layers.Dense(64, activation='relu'))\n",
        "model.add(layers.Dense(32, activation='relu'))\n",
        "model.add(layers.Dense(1, activation='sigmoid'))"
      ],
      "metadata": {
        "id": "-N7ktvmOxlWZ"
      },
      "execution_count": 6,
      "outputs": []
    },
    {
      "cell_type": "markdown",
      "source": [
        "Kompilasi Model"
      ],
      "metadata": {
        "id": "28EVD_qkxrFw"
      }
    },
    {
      "cell_type": "code",
      "source": [
        "model.compile(optimizer='adam', loss='binary_crossentropy', metrics=['accuracy'])"
      ],
      "metadata": {
        "id": "sE3__en7xwFN"
      },
      "execution_count": 7,
      "outputs": []
    },
    {
      "cell_type": "markdown",
      "source": [
        "Latih Model"
      ],
      "metadata": {
        "id": "EA1aXTM4x2x_"
      }
    },
    {
      "cell_type": "code",
      "source": [
        "model.fit(X_train, y_train, epochs=10, batch_size=32, validation_data=(X_test, y_test))"
      ],
      "metadata": {
        "colab": {
          "base_uri": "https://localhost:8080/"
        },
        "id": "h8TabMt4x4za",
        "outputId": "0dcdfaee-645d-4a75-a5f0-68090dd0a452"
      },
      "execution_count": 8,
      "outputs": [
        {
          "output_type": "stream",
          "name": "stdout",
          "text": [
            "Epoch 1/10\n",
            "6/6 [==============================] - 1s 50ms/step - loss: 1.2080 - accuracy: 0.4244 - val_loss: 0.8571 - val_accuracy: 0.2727\n",
            "Epoch 2/10\n",
            "6/6 [==============================] - 0s 8ms/step - loss: 0.4403 - accuracy: 0.2674 - val_loss: 0.5866 - val_accuracy: 0.2955\n",
            "Epoch 3/10\n",
            "6/6 [==============================] - 0s 11ms/step - loss: -0.0456 - accuracy: 0.1977 - val_loss: 0.3982 - val_accuracy: 0.2727\n",
            "Epoch 4/10\n",
            "6/6 [==============================] - 0s 8ms/step - loss: -0.3908 - accuracy: 0.1628 - val_loss: 0.2597 - val_accuracy: 0.2955\n",
            "Epoch 5/10\n",
            "6/6 [==============================] - 0s 12ms/step - loss: -0.6869 - accuracy: 0.1628 - val_loss: 0.1532 - val_accuracy: 0.2955\n",
            "Epoch 6/10\n",
            "6/6 [==============================] - 0s 8ms/step - loss: -0.9998 - accuracy: 0.1919 - val_loss: 0.0563 - val_accuracy: 0.2955\n",
            "Epoch 7/10\n",
            "6/6 [==============================] - 0s 12ms/step - loss: -1.3233 - accuracy: 0.1977 - val_loss: -0.0403 - val_accuracy: 0.2955\n",
            "Epoch 8/10\n",
            "6/6 [==============================] - 0s 11ms/step - loss: -1.6909 - accuracy: 0.1919 - val_loss: -0.1329 - val_accuracy: 0.2955\n",
            "Epoch 9/10\n",
            "6/6 [==============================] - 0s 9ms/step - loss: -2.0574 - accuracy: 0.1977 - val_loss: -0.2358 - val_accuracy: 0.2955\n",
            "Epoch 10/10\n",
            "6/6 [==============================] - 0s 9ms/step - loss: -2.5910 - accuracy: 0.2035 - val_loss: -0.3657 - val_accuracy: 0.2955\n"
          ]
        },
        {
          "output_type": "execute_result",
          "data": {
            "text/plain": [
              "<keras.src.callbacks.History at 0x78ec61c33850>"
            ]
          },
          "metadata": {},
          "execution_count": 8
        }
      ]
    },
    {
      "cell_type": "markdown",
      "source": [
        "Evaluasi Model pada data tes"
      ],
      "metadata": {
        "id": "RGXmvFJ0x7r5"
      }
    },
    {
      "cell_type": "code",
      "source": [
        "loss, accuracy = model.evaluate(X_test, y_test)\n",
        "print(f'Test Loss: {loss}, Test Accuracy: {accuracy}')"
      ],
      "metadata": {
        "colab": {
          "base_uri": "https://localhost:8080/"
        },
        "id": "J21EVV3Xx_Ij",
        "outputId": "f964d17d-3025-43ec-8a1c-c2f414471e93"
      },
      "execution_count": 9,
      "outputs": [
        {
          "output_type": "stream",
          "name": "stdout",
          "text": [
            "2/2 [==============================] - 0s 8ms/step - loss: -0.3657 - accuracy: 0.2955\n",
            "Test Loss: -0.36567723751068115, Test Accuracy: 0.2954545319080353\n"
          ]
        }
      ]
    }
  ]
}